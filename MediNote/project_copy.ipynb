{
 "cells": [
  {
   "cell_type": "markdown",
   "metadata": {},
   "source": [
    "# **Clinical note generation**\n",
    "\n",
    "Our project aims to automate the process of writing clinical notes. Clinical notes are a summary of the patient-doctor interaction and are generally written by the doctor after the consultation. They are used for billing, communication between doctors, and as a reminder of the patient's history.\n",
    "\n",
    "\n",
    "Patient-doctor consultations are recorded as audio, which would be converted into a textual transcript by an out-of-the-box dialogue-based Speech-To-Text model, e.g. [Google Cloud API](https://cloud.google.com/speech-to-text/docs/multiple-voices).\n",
    "\n",
    "\n",
    "Smaller models such as Meditron-7B [(Huggingface link)](https://huggingface.co/epfl-llm/meditron-7b) probably do not have the capacity to generate a clinical note directly from a dialogue transcript because it involves two separate complex tasks: \n",
    "\n",
    "1. **Summarize**: From the dialogue transcript, extract relevant features to create a patient summary, outlining the patient's medical history, current symptoms, and the doctor's diagnosis. \n",
    "2. **Generate**: From the patient summary and samples of the clinician's own notes, generate the clinical note.\n",
    "\n",
    "\n",
    "We therefore break this stage into two language models, each fine-tuned for a specific task.\n",
    "The combined model then generates the clinical note from the dialogue transcript in 2 steps.\n",
    "\n",
    "<p align=\"center\">\n",
    "<img src=\"figures/pipeline.png\" width=\"70%\">\n",
    "</p>"
   ]
  },
  {
   "cell_type": "code",
   "execution_count": 1,
   "metadata": {},
   "outputs": [
    {
     "name": "stderr",
     "output_type": "stream",
     "text": [
      "/Users/williamzheng/Documents/UmichFolder/2025 Fall Semester /Research 499/LettiNote/myletti/lib/python3.10/site-packages/tqdm/auto.py:21: TqdmWarning: IProgress not found. Please update jupyter and ipywidgets. See https://ipywidgets.readthedocs.io/en/stable/user_install.html\n",
      "  from .autonotebook import tqdm as notebook_tqdm\n"
     ]
    },
    {
     "name": "stdout",
     "output_type": "stream",
     "text": [
      "WARNING 11-04 10:01:44 _custom_ops.py:19] Failed to import from vllm._C with ModuleNotFoundError(\"No module named 'vllm._C'\")\n",
      "INFO 11-04 10:01:44 importing.py:10] Triton not installed; certain GPU-related functions will not be available.\n"
     ]
    },
    {
     "name": "stderr",
     "output_type": "stream",
     "text": [
      "2024-11-04 10:01:45,434\tINFO util.py:154 -- Missing packages: ['ipywidgets']. Run `pip install -U ipywidgets`, then restart the notebook server for rich notebook output.\n"
     ]
    }
   ],
   "source": [
    "#!pip install -r requirements.txt\n",
    "\n",
    "from utils.chat import *\n",
    "from utils.eval import *    \n",
    "from utils.infer import *\n",
    "from utils.data import *\n",
    "from utils.scorer import *\n",
    "from utils.generate import *\n",
    "\n",
    "%reload_ext autoreload\n",
    "%autoreload 2\n",
    "\n",
    "SUMMARIES_DIR = os.path.join(DATA_DIR, 'summaries')\n",
    "SUMMARIZER_DIR = os.path.join(DATA_DIR, 'summarizer')\n",
    "GENERATOR_DIR = os.path.join(DATA_DIR, 'generator')\n",
    "DIRECT_DIR = os.path.join(DATA_DIR, 'direct')"
   ]
  },
  {
   "cell_type": "markdown",
   "metadata": {},
   "source": [
    "\n",
    "## 1. **Synthetic patient summaries**\n",
    "\n",
    "For our fine-tuning data, we will use the [NoteChat](https://arxiv.org/abs/2310.15959) dataset [(Huggingface link)](https://huggingface.co/datasets/akemiH/NoteChat). This dataset contains 167K pairs of real clinical notes extracted from [PMC-Patients](https://arxiv.org/abs/2202.13876) with generated patient-doctor conversations.\n",
    "\n",
    "<p align=\"center\">\n",
    "<img src=\"figures/notechat.png\" width=\"50%\">\n",
    "</p>\n",
    "\n",
    "We extend this dataset of pairs to triplets with GPT-3.5: \n",
    "\n",
    "(`clinical note`, `dialogue transcript`) $\\to$ (`clinical note`, `dialogue transcript`, `patient summary`)\n",
    "\n",
    "We extract patient summaries by prompting GPT-3.5 with a clinical note, its corresponding dialogue transcript and a comprehensive template of patient features. \n",
    "\n",
    "### 1.1. **Load NoteChat data**\n",
    "\n",
    "We first take a look at the NoteChat dataset. We load the dataset from the Huggingface library and display a few examples."
   ]
  },
  {
   "cell_type": "code",
   "execution_count": 2,
   "metadata": {},
   "outputs": [
    {
     "name": "stderr",
     "output_type": "stream",
     "text": [
      "Repo card metadata block was not found. Setting CardData to empty.\n",
      "/Users/williamzheng/Documents/UmichFolder/2025 Fall Semester /Research 499/LettiNote/myletti/lib/python3.10/site-packages/datasets/table.py:1421: FutureWarning: promote has been superseded by promote_options='default'.\n",
      "  table = cls._concat_blocks(blocks, axis=0)\n"
     ]
    },
    {
     "data": {
      "text/html": [
       "<div>\n",
       "<style scoped>\n",
       "    .dataframe tbody tr th:only-of-type {\n",
       "        vertical-align: middle;\n",
       "    }\n",
       "\n",
       "    .dataframe tbody tr th {\n",
       "        vertical-align: top;\n",
       "    }\n",
       "\n",
       "    .dataframe thead th {\n",
       "        text-align: right;\n",
       "    }\n",
       "</style>\n",
       "<table border=\"1\" class=\"dataframe\">\n",
       "  <thead>\n",
       "    <tr style=\"text-align: right;\">\n",
       "      <th></th>\n",
       "      <th>note</th>\n",
       "      <th>conversation</th>\n",
       "    </tr>\n",
       "  </thead>\n",
       "  <tbody>\n",
       "    <tr>\n",
       "      <th>0</th>\n",
       "      <td>This 60-year-old male was hospitalized due to ...</td>\n",
       "      <td>\\nDoctor: Hi, Mr. X, I'm Dr. Y. How are you fe...</td>\n",
       "    </tr>\n",
       "    <tr>\n",
       "      <th>1</th>\n",
       "      <td>A 39-year-old man was hospitalized due to an i...</td>\n",
       "      <td>\\nDoctor: Hello, I am Dr. Smith. Can you tell ...</td>\n",
       "    </tr>\n",
       "    <tr>\n",
       "      <th>2</th>\n",
       "      <td>One week after a positive COVID-19 result this...</td>\n",
       "      <td>\\nDoctor: Good morning, how are you feeling to...</td>\n",
       "    </tr>\n",
       "    <tr>\n",
       "      <th>3</th>\n",
       "      <td>This 69-year-old male was admitted to the ICU ...</td>\n",
       "      <td>Doctor: Good morning, sir. How are you feeling...</td>\n",
       "    </tr>\n",
       "    <tr>\n",
       "      <th>4</th>\n",
       "      <td>This 57-year-old male was admitted to the ICU ...</td>\n",
       "      <td>\\nDoctor: Good morning, Mr. Patient. How are y...</td>\n",
       "    </tr>\n",
       "  </tbody>\n",
       "</table>\n",
       "</div>"
      ],
      "text/plain": [
       "                                                note  \\\n",
       "0  This 60-year-old male was hospitalized due to ...   \n",
       "1  A 39-year-old man was hospitalized due to an i...   \n",
       "2  One week after a positive COVID-19 result this...   \n",
       "3  This 69-year-old male was admitted to the ICU ...   \n",
       "4  This 57-year-old male was admitted to the ICU ...   \n",
       "\n",
       "                                        conversation  \n",
       "0  \\nDoctor: Hi, Mr. X, I'm Dr. Y. How are you fe...  \n",
       "1  \\nDoctor: Hello, I am Dr. Smith. Can you tell ...  \n",
       "2  \\nDoctor: Good morning, how are you feeling to...  \n",
       "3  Doctor: Good morning, sir. How are you feeling...  \n",
       "4  \\nDoctor: Good morning, Mr. Patient. How are y...  "
      ]
     },
     "execution_count": 2,
     "metadata": {},
     "output_type": "execute_result"
    }
   ],
   "source": [
    "notechat_path = 'data/NoteChat.jsonl'\n",
    "\n",
    "if not os.path.exists(notechat_path):\n",
    "    notechat = load_dataset(\"akemiH/NoteChat\")['train'].to_pandas()\n",
    "    notechat.to_json(notechat_path, orient='records', lines=True)\n",
    "else:\n",
    "    notechat = pd.read_json(notechat_path, orient='records', lines=True)\n",
    "\n",
    "notechat.rename(columns={'data': 'note'}, inplace=True)\n",
    "notechat.head()\n"
   ]
  },
  {
   "cell_type": "markdown",
   "metadata": {},
   "source": [
    "Here's an example!"
   ]
  },
  {
   "cell_type": "code",
   "execution_count": 3,
   "metadata": {},
   "outputs": [
    {
     "name": "stdout",
     "output_type": "stream",
     "text": [
      "CLINICAL NOTE\n",
      "This 60-year-old male was hospitalized due to moderate ARDS from COVID-19 with symptoms of fever, dry cough, and dyspnea.\n",
      "We encountered several difficulties during physical therapy on the acute ward.\n",
      "First, any change of position or deep breathing triggered coughing attacks that induced oxygen desaturation and dyspnea.\n",
      "To avoid rapid deterioration and respiratory failure, we instructed and performed position changes very slowly and step-by-step.\n",
      "In this way, a position change to the 135° prone position () took around 30 minutes.\n",
      "This approach was well tolerated and increased oxygen saturation, for example, on day 5 with 6 L/min of oxygen from 93% to 97%.\n",
      "Second, we had to adapt the breathing exercises to avoid prolonged coughing and oxygen desaturation.\n",
      "Accordingly, we instructed the patient to stop every deep breath before the need to cough and to hold inspiration for better air distribution.\n",
      "In this manner, the patient performed the breathing exercises well and managed to increase his oxygen saturation.\n",
      "Third, the patient had difficulty maintaining sufficient oxygen saturation during physical activity.\n",
      "However, with close monitoring and frequent breaks, he managed to perform strength and walking exercises at a low level without any significant deoxygenation.\n",
      "Exercise progression was low on days 1 to 5, but then increased daily until hospital discharge to a rehabilitation clinic on day 10.\n",
      "\n",
      "\n",
      "CONVERSATION\n",
      "Doctor: Hi, Mr. X, I'm Dr. Y. How are you feeling today?\n",
      "Patient: Not too good, doctor. I've been feeling really sick lately.\n",
      "Doctor: I understand. Can you tell me what symptoms you're experiencing?\n",
      "Patient: Yes, I've been having a fever, a dry cough, and dyspnea.\n",
      "Doctor: I see. You were hospitalized due to moderate ARDS from COVID-19, is that correct?\n",
      "Patient: Yes, that's correct.\n",
      "Doctor: During your physical therapy, we encountered some difficulties. Can you tell me more about that?\n",
      "Patient: Yes, I had trouble with position changes and deep breathing. Every time I tried to change my position or take a deep breath, I would start coughing and it would make me really short of breath.\n",
      "Doctor: I understand. To avoid rapid deterioration and respiratory failure, we instructed you to change positions very slowly and step-by-step, right?\n",
      "Patient: Yes, that's right. It took about 30 minutes to change to the prone position.\n",
      "Doctor: And I see that this approach increased your oxygen saturation, for example, on day 5 with 6 L/min of oxygen from 93% to 97%.\n",
      "Patient: Yes, that's correct.\n",
      "Doctor: Good. We also had to adapt your breathing exercises to avoid prolonged coughing and oxygen desaturation. Can you tell me more about that?\n",
      "Patient: Yes, I was instructed to stop every deep breath before coughing and to hold my breath for better air distribution.\n",
      "Doctor: I see that you performed the breathing exercises well and managed to increase your oxygen saturation.\n",
      "Patient: Yes, I did my best.\n",
      "Doctor: You also had difficulty maintaining sufficient oxygen saturation during physical activity, is that correct?\n",
      "Patient: Yes, I did. But with close monitoring and frequent breaks, I was able to perform low-level strength and walking exercises without any significant deoxygenation.\n",
      "Doctor: I see that your exercise progression was low on days 1 to 5, but then increased daily until your hospital discharge to a rehabilitation clinic on day 10.\n",
      "Patient: Yes, that's correct.\n",
      "Doctor: Great. I'd like to keep monitoring your progress and see how you're doing. Can you keep me updated on any changes in your symptoms?\n",
      "Patient: Yes, of course, doctor.\n",
      "Doctor: Alright, let's keep in touch. If you have any questions or concerns, don't hesitate to reach out to me.\n",
      "Patient: Thank you, doctor.\n"
     ]
    }
   ],
   "source": [
    "note = notechat['note'][0].replace('. ', '.\\n')\n",
    "conversation = notechat['conversation'][0].strip()  \n",
    "\n",
    "print('CLINICAL NOTE')\n",
    "print(note)\n",
    "print('\\n\\nCONVERSATION')\n",
    "print(conversation.replace('\\n\\n', '\\n'))"
   ]
  },
  {
   "cell_type": "markdown",
   "metadata": {},
   "source": [
    "### 1.2. **Experiment with extraction of patient summaries**\n",
    "\n",
    "\n",
    "$$\\text{Prompt} + \\text{Clinical note} + \\text{Template (with definitions?)} \\to \\text{Patient summary}$$\n",
    "\n",
    "We tested out a few options to see which one works best.\n",
    "\n",
    "- **Clinical note and/or dialogue transcript?** Dialogue is generated from clinical note, so all information contained in the dialogue should be in the clinical note --> only use clinical note?\n",
    "\n",
    "- **Zero-shot vs. One-shot?** Do we include an example of (clinical note, dialogue transcript, patient summary) in the prompt? Ideally yes, but it might not fit in the prompt. If we remove the dialogue, it might fit better. \n",
    "--> Zero-shot to fit into context. \n",
    "\n",
    "- **Template definitions?** Do we include definitions of the template in the prompt? Adding the definitions might not help, and might not fit in the prompt. \n",
    "\n",
    "After a few tests, we choose to generate using only clinical notes, zero-shot and using a template with definitions. \n",
    "\n",
    "#### **Extraction prompt**\n",
    "\n",
    "Here's the extraction instruction we pass to GPT-4: "
   ]
  },
  {
   "cell_type": "code",
   "execution_count": 4,
   "metadata": {},
   "outputs": [
    {
     "name": "stdout",
     "output_type": "stream",
     "text": [
      "Given the provided clinical note, extract the corresponding patient summary following the template provided. \n",
      "Make sure to extract all the information from the clinical note into the template, but do not add any new information. \n",
      "If a field is not mentioned, simply write \"feature\": None.\n"
     ]
    }
   ],
   "source": [
    "# Load the extraction prompt\n",
    "instruction_path = 'generation/instructions/extraction.txt'\n",
    "with open(instruction_path, 'r') as f:\n",
    "    instructions = f.read()\n",
    "print(instructions)"
   ]
  },
  {
   "cell_type": "markdown",
   "metadata": {},
   "source": [
    "#### **Template**\n",
    "\n",
    "We now load the template used to extract patient information. Each field is provided with a definition to help GPT-4 understand the context."
   ]
  },
  {
   "cell_type": "code",
   "execution_count": 5,
   "metadata": {},
   "outputs": [
    {
     "data": {
      "text/plain": [
       "{'visit motivation': \"Reason for the patient's visit\",\n",
       " 'admission': [{'reason': 'Reason for admission to a care center',\n",
       "   'date': 'Date of first admission',\n",
       "   'duration': \"Length of patient's stay\",\n",
       "   'care center details': 'Any details of care center the patient was admitted to (e.g. oncology clinic)'}],\n",
       " 'patient information': {'age': \"Patient's age\",\n",
       "  'sex': \"Patient's sex\",\n",
       "  'ethnicity': \"Patient's ethnicity or nationality\",\n",
       "  'weight': \"Patient's weight\",\n",
       "  'height': \"Patient's height\",\n",
       "  'family medical history': 'Information about family medical history',\n",
       "  'recent travels': \"Details about patient's recent travels\",\n",
       "  'socio economic context': \"Patient's socioeconomic background\",\n",
       "  'occupation': \"Patient's occupation\"},\n",
       " 'patient medical history': {'physiological context': 'Relevant physiological history of the patient',\n",
       "  'psychological context': 'Relevant psychological history of the patient',\n",
       "  'vaccination history': 'History of vaccinations received by the patient',\n",
       "  'allergies': 'Any known allergies of the patient',\n",
       "  'exercise frequency': \"Frequency of patient's exercise activity\",\n",
       "  'nutrition': \"Information about patient's nutrition\",\n",
       "  'sexual history': \"Relevant details about patient's sexual history\",\n",
       "  'alcohol consumption': \"Patient's alcohol consumption habits\",\n",
       "  'drug usage': 'Information about any recreative drugs used by patient',\n",
       "  'smoking status': \"Patient's smoking status\"},\n",
       " 'surgeries': [{'reason': 'Reason for surgery',\n",
       "   'Type': 'Type of surgery performed',\n",
       "   'time': 'Time of surgery',\n",
       "   'outcome': 'Outcome of surgery',\n",
       "   'details': 'Details about the surgery'}],\n",
       " 'symptoms': [{'name of symptom': 'Specific symptom experienced by the patient',\n",
       "   'intensity of symptom': 'Severity or intensity of the symptom',\n",
       "   'location': 'Where the symptom is localized',\n",
       "   'time': 'Any temporal details about when the symtom appears',\n",
       "   'temporalisation': 'Any specific timing patterns associated with the symptom',\n",
       "   'behaviours affecting the symptom': \"Activities or actions that influence the symptom's severity or occurrence.\",\n",
       "   'details': 'All additional details about the symptom'}],\n",
       " 'medical examinations': [{'name': 'name of medical examination performed',\n",
       "   'result': 'Result or measurement of the physical examination',\n",
       "   'details': 'All additional details about the physical examination'}],\n",
       " 'diagnosis tests': [{'test': 'Name of medical test performed to diagnose the condition',\n",
       "   'severity': 'Severity level of diagnosed condition',\n",
       "   'result': 'Result or measurement of the medical test performed to diagnose the condition',\n",
       "   'condition': 'Name of medical conditions diagnosed',\n",
       "   'time': 'Any temporal details about when the diagnosis test was performed',\n",
       "   'details': 'All additional details about the medical test'}],\n",
       " 'treatments': [{'name': 'Treatment or medication prescribed to the patient',\n",
       "   'related condition': 'Medical condition that the treatment is prescribed for',\n",
       "   'dosage': 'Amount or strength of the treatment',\n",
       "   'time': 'Any temporal details about when the treatment was performed',\n",
       "   'frequency': 'How often the treatment is taken',\n",
       "   'duration': 'The length of time the patient should take the treatment',\n",
       "   'reason for taking': 'The medical reason for taking the treatment',\n",
       "   'reaction to treatment': \"Patient's reaction or response to the prescribed treatment\",\n",
       "   'details': 'All additional details about the treatment'}],\n",
       " 'discharge': {'reason': \"Reason motivating patient's discharge\",\n",
       "  'referral': 'Details about any referrals',\n",
       "  'follow up': 'Details about any follow up appointments',\n",
       "  'discharge summary': \"Summary of patient's discharge\"}}"
      ]
     },
     "execution_count": 5,
     "metadata": {},
     "output_type": "execute_result"
    }
   ],
   "source": [
    "# Load the template\n",
    "template_path = 'generation/templates/template.json'\n",
    "with open(template_path, 'r') as f:\n",
    "    template = json.load(f)\n",
    "\n",
    "# Load the template definitions\n",
    "template_def_path = 'generation/templates/template_definitions.json'\n",
    "with open(template_def_path, 'r') as f:\n",
    "    template_def = json.load(f)\n",
    "\n",
    "template_def"
   ]
  },
  {
   "cell_type": "markdown",
   "metadata": {},
   "source": [
    "### 1.4. **Finally generating patient summaries**\n",
    "\n",
    "Once we have a good prompting strategy and template, we generate triplets for the whole dataset.\n",
    "\n",
    "We sort the NoteChat dataset by decreasing order of length of the clinical note. This is because we want to extract patient summaries from the longest clinical notes first, as they are more likely to contain more information."
   ]
  },
  {
   "cell_type": "code",
   "execution_count": 6,
   "metadata": {},
   "outputs": [
    {
     "data": {
      "text/html": [
       "<div>\n",
       "<style scoped>\n",
       "    .dataframe tbody tr th:only-of-type {\n",
       "        vertical-align: middle;\n",
       "    }\n",
       "\n",
       "    .dataframe tbody tr th {\n",
       "        vertical-align: top;\n",
       "    }\n",
       "\n",
       "    .dataframe thead th {\n",
       "        text-align: right;\n",
       "    }\n",
       "</style>\n",
       "<table border=\"1\" class=\"dataframe\">\n",
       "  <thead>\n",
       "    <tr style=\"text-align: right;\">\n",
       "      <th></th>\n",
       "      <th>note</th>\n",
       "      <th>conversation</th>\n",
       "      <th>length</th>\n",
       "    </tr>\n",
       "  </thead>\n",
       "  <tbody>\n",
       "    <tr>\n",
       "      <th>15675</th>\n",
       "      <td>The medical history of 44-year old male kidney...</td>\n",
       "      <td>Doctor: Good morning, can you tell me a little...</td>\n",
       "      <td>529</td>\n",
       "    </tr>\n",
       "    <tr>\n",
       "      <th>30182</th>\n",
       "      <td>A 66-year-old male with chronic hypoxemic resp...</td>\n",
       "      <td>Doctor: Good morning, how are you feeling toda...</td>\n",
       "      <td>524</td>\n",
       "    </tr>\n",
       "    <tr>\n",
       "      <th>64786</th>\n",
       "      <td>An outborn male neonate was delivered vaginall...</td>\n",
       "      <td>\\nDoctor: Hello, how are you feeling today?\\n\\...</td>\n",
       "      <td>522</td>\n",
       "    </tr>\n",
       "    <tr>\n",
       "      <th>140140</th>\n",
       "      <td>Patient: 71-year-old male.\\nMain symptoms: fev...</td>\n",
       "      <td>\\nDoctor: Good morning, sir. How are you feeli...</td>\n",
       "      <td>521</td>\n",
       "    </tr>\n",
       "    <tr>\n",
       "      <th>140324</th>\n",
       "      <td>P, a 25-year-old male with unknown native kidn...</td>\n",
       "      <td>Doctor: Good morning, sir. How can I help you ...</td>\n",
       "      <td>517</td>\n",
       "    </tr>\n",
       "    <tr>\n",
       "      <th>9646</th>\n",
       "      <td>Clinical presentation: A 50-year old female wi...</td>\n",
       "      <td>\\nDoctor: Good morning, how can I help you tod...</td>\n",
       "      <td>514</td>\n",
       "    </tr>\n",
       "    <tr>\n",
       "      <th>186647</th>\n",
       "      <td>Clinical presentation: A 50-year old female wi...</td>\n",
       "      <td>Doctor: Hello, how can I assist you today?\\nPa...</td>\n",
       "      <td>514</td>\n",
       "    </tr>\n",
       "    <tr>\n",
       "      <th>176647</th>\n",
       "      <td>Clinical presentation: A 50-year old female wi...</td>\n",
       "      <td>Doctor: Hello, how can I assist you today?\\nPa...</td>\n",
       "      <td>514</td>\n",
       "    </tr>\n",
       "    <tr>\n",
       "      <th>196647</th>\n",
       "      <td>Clinical presentation: A 50-year old female wi...</td>\n",
       "      <td>Doctor: Hello, how can I assist you today?\\nPa...</td>\n",
       "      <td>514</td>\n",
       "    </tr>\n",
       "    <tr>\n",
       "      <th>206647</th>\n",
       "      <td>Clinical presentation: A 50-year old female wi...</td>\n",
       "      <td>Doctor: Hello, how can I assist you today?\\nPa...</td>\n",
       "      <td>514</td>\n",
       "    </tr>\n",
       "  </tbody>\n",
       "</table>\n",
       "</div>"
      ],
      "text/plain": [
       "                                                     note  \\\n",
       "15675   The medical history of 44-year old male kidney...   \n",
       "30182   A 66-year-old male with chronic hypoxemic resp...   \n",
       "64786   An outborn male neonate was delivered vaginall...   \n",
       "140140  Patient: 71-year-old male.\\nMain symptoms: fev...   \n",
       "140324  P, a 25-year-old male with unknown native kidn...   \n",
       "9646    Clinical presentation: A 50-year old female wi...   \n",
       "186647  Clinical presentation: A 50-year old female wi...   \n",
       "176647  Clinical presentation: A 50-year old female wi...   \n",
       "196647  Clinical presentation: A 50-year old female wi...   \n",
       "206647  Clinical presentation: A 50-year old female wi...   \n",
       "\n",
       "                                             conversation  length  \n",
       "15675   Doctor: Good morning, can you tell me a little...     529  \n",
       "30182   Doctor: Good morning, how are you feeling toda...     524  \n",
       "64786   \\nDoctor: Hello, how are you feeling today?\\n\\...     522  \n",
       "140140  \\nDoctor: Good morning, sir. How are you feeli...     521  \n",
       "140324  Doctor: Good morning, sir. How can I help you ...     517  \n",
       "9646    \\nDoctor: Good morning, how can I help you tod...     514  \n",
       "186647  Doctor: Hello, how can I assist you today?\\nPa...     514  \n",
       "176647  Doctor: Hello, how can I assist you today?\\nPa...     514  \n",
       "196647  Doctor: Hello, how can I assist you today?\\nPa...     514  \n",
       "206647  Doctor: Hello, how can I assist you today?\\nPa...     514  "
      ]
     },
     "metadata": {},
     "output_type": "display_data"
    }
   ],
   "source": [
    "notechat['length'] = notechat['note'].apply(lambda x: count_tokens(x))\n",
    "notechat = notechat.sort_values(by=['length'], ascending=False)\n",
    "display(notechat.head(10))\n",
    "notechat = notechat.drop(columns=['length'])\n",
    "notechat['idx'] = notechat.index\n",
    "notechat.to_json('data/NoteChat_sorted.jsonl', orient='records', lines=True)"
   ]
  },
  {
   "cell_type": "markdown",
   "metadata": {},
   "source": [
    "We're now generating 30K patient summaries from NoteChat clinical notes using our `utils/chat.py` script."
   ]
  },
  {
   "cell_type": "code",
   "execution_count": 13,
   "metadata": {},
   "outputs": [
    {
     "name": "stdout",
     "output_type": "stream",
     "text": [
      "Loading Data...\n",
      "generating summaries...\n",
      "Loading template...\n",
      "Loading instructions...\n",
      "Building prompts...\n"
     ]
    },
    {
     "name": "stderr",
     "output_type": "stream",
     "text": [
      "100%|██████████| 10/10 [00:00<00:00, 19654.66it/s]\n",
      "Building messages: 100%|██████████| 10/10 [00:00<00:00, 371177.35it/s]\n"
     ]
    },
    {
     "name": "stdout",
     "output_type": "stream",
     "text": [
      "Creating sub-batches...\n"
     ]
    },
    {
     "name": "stderr",
     "output_type": "stream",
     "text": [
      "Building sub-batches: 100%|██████████| 10/10 [00:00<00:00, 621.04it/s]"
     ]
    },
    {
     "name": "stdout",
     "output_type": "stream",
     "text": [
      "Sub_batch 1/1: 10 calls, 14782 total tokens: 0.14782$\n"
     ]
    },
    {
     "name": "stderr",
     "output_type": "stream",
     "text": [
      "\n"
     ]
    },
    {
     "name": "stdout",
     "output_type": "stream",
     "text": [
      "..........\n",
      "\n",
      "Sub-batch 1 Saved (size 10)\n",
      "\n",
      "\n",
      "Break for 10 seconds.\n",
      "End of break.\n"
     ]
    },
    {
     "data": {
      "text/html": [
       "<div>\n",
       "<style scoped>\n",
       "    .dataframe tbody tr th:only-of-type {\n",
       "        vertical-align: middle;\n",
       "    }\n",
       "\n",
       "    .dataframe tbody tr th {\n",
       "        vertical-align: top;\n",
       "    }\n",
       "\n",
       "    .dataframe thead th {\n",
       "        text-align: right;\n",
       "    }\n",
       "</style>\n",
       "<table border=\"1\" class=\"dataframe\">\n",
       "  <thead>\n",
       "    <tr style=\"text-align: right;\">\n",
       "      <th></th>\n",
       "      <th>idx</th>\n",
       "      <th>data</th>\n",
       "      <th>conversation</th>\n",
       "      <th>summary</th>\n",
       "      <th>note</th>\n",
       "    </tr>\n",
       "  </thead>\n",
       "  <tbody>\n",
       "    <tr>\n",
       "      <th>0</th>\n",
       "      <td>15675</td>\n",
       "      <td>NaN</td>\n",
       "      <td>Doctor: Good morning, can you tell me a little...</td>\n",
       "      <td>{\\n    \"visit motivation\": \"Fever, malaise, in...</td>\n",
       "      <td>The medical history of 44-year old male kidney...</td>\n",
       "    </tr>\n",
       "    <tr>\n",
       "      <th>1</th>\n",
       "      <td>30182</td>\n",
       "      <td>NaN</td>\n",
       "      <td>Doctor: Good morning, how are you feeling toda...</td>\n",
       "      <td>{\\n    \"visit motivation\": \"Single right lung ...</td>\n",
       "      <td>A 66-year-old male with chronic hypoxemic resp...</td>\n",
       "    </tr>\n",
       "    <tr>\n",
       "      <th>2</th>\n",
       "      <td>64786</td>\n",
       "      <td>NaN</td>\n",
       "      <td>\\nDoctor: Hello, how are you feeling today?\\n\\...</td>\n",
       "      <td>{\\n    \"visit motivation\": \"Severe dyspnea imm...</td>\n",
       "      <td>An outborn male neonate was delivered vaginall...</td>\n",
       "    </tr>\n",
       "    <tr>\n",
       "      <th>3</th>\n",
       "      <td>140140</td>\n",
       "      <td>NaN</td>\n",
       "      <td>\\nDoctor: Good morning, sir. How are you feeli...</td>\n",
       "      <td>{\\n    \"visit motivation\": \"Suspicion of recur...</td>\n",
       "      <td>Patient: 71-year-old male.\\nMain symptoms: fev...</td>\n",
       "    </tr>\n",
       "    <tr>\n",
       "      <th>4</th>\n",
       "      <td>140324</td>\n",
       "      <td>NaN</td>\n",
       "      <td>Doctor: Good morning, sir. How can I help you ...</td>\n",
       "      <td>{\\n    \"visit motivation\": \"Recurrent fever\",\\...</td>\n",
       "      <td>P, a 25-year-old male with unknown native kidn...</td>\n",
       "    </tr>\n",
       "    <tr>\n",
       "      <th>5</th>\n",
       "      <td>9646</td>\n",
       "      <td>NaN</td>\n",
       "      <td>\\nDoctor: Good morning, how can I help you tod...</td>\n",
       "      <td>{\\n    \"visit motivation\": \"Petechiae after 3 ...</td>\n",
       "      <td>Clinical presentation: A 50-year old female wi...</td>\n",
       "    </tr>\n",
       "    <tr>\n",
       "      <th>6</th>\n",
       "      <td>186647</td>\n",
       "      <td>NaN</td>\n",
       "      <td>Doctor: Hello, how can I assist you today?\\nPa...</td>\n",
       "      <td>{\\n    \"visit motivation\": \"Petechiae after 3 ...</td>\n",
       "      <td>Clinical presentation: A 50-year old female wi...</td>\n",
       "    </tr>\n",
       "    <tr>\n",
       "      <th>7</th>\n",
       "      <td>176647</td>\n",
       "      <td>NaN</td>\n",
       "      <td>Doctor: Hello, how can I assist you today?\\nPa...</td>\n",
       "      <td>{\\n    \"visit motivation\": \"Petechiae after 3 ...</td>\n",
       "      <td>Clinical presentation: A 50-year old female wi...</td>\n",
       "    </tr>\n",
       "    <tr>\n",
       "      <th>8</th>\n",
       "      <td>196647</td>\n",
       "      <td>NaN</td>\n",
       "      <td>Doctor: Hello, how can I assist you today?\\nPa...</td>\n",
       "      <td>{\\n    \"visit motivation\": \"Petechiae after 3 ...</td>\n",
       "      <td>Clinical presentation: A 50-year old female wi...</td>\n",
       "    </tr>\n",
       "    <tr>\n",
       "      <th>9</th>\n",
       "      <td>206647</td>\n",
       "      <td>NaN</td>\n",
       "      <td>Doctor: Hello, how can I assist you today?\\nPa...</td>\n",
       "      <td>{\\n    \"visit motivation\": \"Petechiae after 3 ...</td>\n",
       "      <td>Clinical presentation: A 50-year old female wi...</td>\n",
       "    </tr>\n",
       "  </tbody>\n",
       "</table>\n",
       "</div>"
      ],
      "text/plain": [
       "      idx data                                       conversation  \\\n",
       "0   15675  NaN  Doctor: Good morning, can you tell me a little...   \n",
       "1   30182  NaN  Doctor: Good morning, how are you feeling toda...   \n",
       "2   64786  NaN  \\nDoctor: Hello, how are you feeling today?\\n\\...   \n",
       "3  140140  NaN  \\nDoctor: Good morning, sir. How are you feeli...   \n",
       "4  140324  NaN  Doctor: Good morning, sir. How can I help you ...   \n",
       "5    9646  NaN  \\nDoctor: Good morning, how can I help you tod...   \n",
       "6  186647  NaN  Doctor: Hello, how can I assist you today?\\nPa...   \n",
       "7  176647  NaN  Doctor: Hello, how can I assist you today?\\nPa...   \n",
       "8  196647  NaN  Doctor: Hello, how can I assist you today?\\nPa...   \n",
       "9  206647  NaN  Doctor: Hello, how can I assist you today?\\nPa...   \n",
       "\n",
       "                                             summary  \\\n",
       "0  {\\n    \"visit motivation\": \"Fever, malaise, in...   \n",
       "1  {\\n    \"visit motivation\": \"Single right lung ...   \n",
       "2  {\\n    \"visit motivation\": \"Severe dyspnea imm...   \n",
       "3  {\\n    \"visit motivation\": \"Suspicion of recur...   \n",
       "4  {\\n    \"visit motivation\": \"Recurrent fever\",\\...   \n",
       "5  {\\n    \"visit motivation\": \"Petechiae after 3 ...   \n",
       "6  {\\n    \"visit motivation\": \"Petechiae after 3 ...   \n",
       "7  {\\n    \"visit motivation\": \"Petechiae after 3 ...   \n",
       "8  {\\n    \"visit motivation\": \"Petechiae after 3 ...   \n",
       "9  {\\n    \"visit motivation\": \"Petechiae after 3 ...   \n",
       "\n",
       "                                                note  \n",
       "0  The medical history of 44-year old male kidney...  \n",
       "1  A 66-year-old male with chronic hypoxemic resp...  \n",
       "2  An outborn male neonate was delivered vaginall...  \n",
       "3  Patient: 71-year-old male.\\nMain symptoms: fev...  \n",
       "4  P, a 25-year-old male with unknown native kidn...  \n",
       "5  Clinical presentation: A 50-year old female wi...  \n",
       "6  Clinical presentation: A 50-year old female wi...  \n",
       "7  Clinical presentation: A 50-year old female wi...  \n",
       "8  Clinical presentation: A 50-year old female wi...  \n",
       "9  Clinical presentation: A 50-year old female wi...  "
      ]
     },
     "execution_count": 13,
     "metadata": {},
     "output_type": "execute_result"
    }
   ],
   "source": [
    "model = 'gpt-4-1106-preview'\n",
    "chat = chat_gpt_4_turbo\n",
    "\n",
    "template_path = 'generation/templates/template_definitions.json'\n",
    "#instruction_path = 'generation/instructions/instructions.txt'\n",
    "instruction_path = 'generation/instructions/extraction.txt'\n",
    "\n",
    "\n",
    "data_path = 'data/NoteChat_sorted.jsonl'\n",
    "save_path = 'generation/saves/summaries_full_gen.jsonl'\n",
    "keys_path = 'generation/keys.json'\n",
    "\n",
    "max_tokens = 500000\n",
    "nb_to_generate = 30000\n",
    "\n",
    "extract(\n",
    "    model = model,\n",
    "    chat = chat,\n",
    "    template_path=template_path,\n",
    "    instruction_path=instruction_path,\n",
    "    data_path=data_path,\n",
    "    save_path=save_path,\n",
    "    use_notes=True, \n",
    "    use_dialogues=False,\n",
    "    max_tokens= max_tokens,\n",
    "    nb_to_generate = nb_to_generate)"
   ]
  },
  {
   "cell_type": "markdown",
   "metadata": {},
   "source": [
    "## 2. **Preparing fine-tuning datasets**\n",
    "\n",
    "We prepare three datasets from 30K triplets of (clinical note, dialogue transcript, patient summary) generated from NoteChat.\n",
    "\n",
    "- `summarizer_30K.jsonl`: input is the summarizer prompt + synthetic patient-doctor dialog from NoteChat, output is GPT-4's patient summary \n",
    "\n",
    "- `generator_30K.jsonl`: input is the generator prompt + patient summary from GPT-4, output is the clinical note from PMC-Patients. \n",
    "\n",
    "- `direct_30K.jsonl`: input is the direct prompt + synthetic patient-doctor dialog from NoteChat, output is the clinical note from PMC-Patients."
   ]
  },
  {
   "cell_type": "code",
   "execution_count": 21,
   "metadata": {},
   "outputs": [
    {
     "name": "stderr",
     "output_type": "stream",
     "text": [
      "/Users/williamzheng/Documents/UmichFolder/2025 Fall Semester /Research 499/LettiNote/myletti/lib/python3.10/site-packages/IPython/core/pylabtools.py:77: DeprecationWarning: backend2gui is deprecated since IPython 8.24, backends are managed in matplotlib and can be externally registered.\n",
      "  warnings.warn(\n"
     ]
    },
    {
     "data": {
      "image/png": "[encoded data removed]",
      "text/plain": [
       "<Figure size 640x480 with 1 Axes>"
      ]
     },
     "metadata": {},
     "output_type": "display_data"
    }
   ],
   "source": [
    "#summaries_path = os.path.join(SUMMARIES_DIR, 'summaries_30K.jsonl')\n",
    "summaries_path = os.path.join(SUMMARIES_DIR, 'augmented_notes_30k.jsonl') #myadd\n",
    "summaries = pd.read_json(summaries_path, lines=True)\n",
    "summaries['summary'] = summaries['summary'].apply(formatting)          \n",
    "#summaries['data'] = summaries['data'].apply(lambda x: x.strip())\n",
    "summaries['note'] = summaries['note'].apply(lambda x: x.strip()) #myadd\n",
    "summaries['conversation'] = summaries['conversation'].apply(lambda x: x.strip().replace('\\n\\n', '\\n'))\n",
    "summaries.to_json(summaries_path, orient='records', lines=True)\n",
    "\n",
    "#length_histogram(summaries, key='data')\n",
    "length_histogram(summaries_path, keys='note')"
   ]
  },
  {
   "cell_type": "markdown",
   "metadata": {},
   "source": [
    "### 2.1. **Summarizer**: dialog to summary"
   ]
  },
  {
   "cell_type": "code",
   "execution_count": 22,
   "metadata": {},
   "outputs": [
    {
     "data": {
      "text/html": [
       "<div>\n",
       "<style scoped>\n",
       "    .dataframe tbody tr th:only-of-type {\n",
       "        vertical-align: middle;\n",
       "    }\n",
       "\n",
       "    .dataframe tbody tr th {\n",
       "        vertical-align: top;\n",
       "    }\n",
       "\n",
       "    .dataframe thead th {\n",
       "        text-align: right;\n",
       "    }\n",
       "</style>\n",
       "<table border=\"1\" class=\"dataframe\">\n",
       "  <thead>\n",
       "    <tr style=\"text-align: right;\">\n",
       "      <th></th>\n",
       "      <th>idx</th>\n",
       "      <th>prompt</th>\n",
       "      <th>gold</th>\n",
       "    </tr>\n",
       "  </thead>\n",
       "  <tbody>\n",
       "    <tr>\n",
       "      <th>0</th>\n",
       "      <td>155216</td>\n",
       "      <td>Given the provided patient-doctor dialog, writ...</td>\n",
       "      <td>{\\n\"visit motivation\": \"Discomfort in the neck...</td>\n",
       "    </tr>\n",
       "    <tr>\n",
       "      <th>1</th>\n",
       "      <td>77465</td>\n",
       "      <td>Given the provided patient-doctor dialog, writ...</td>\n",
       "      <td>{\\n\"visit motivation\": \"Complaints of a dull p...</td>\n",
       "    </tr>\n",
       "    <tr>\n",
       "      <th>2</th>\n",
       "      <td>133948</td>\n",
       "      <td>Given the provided patient-doctor dialog, writ...</td>\n",
       "      <td>{\\n\"visit motivation\": \"Pain and restricted ra...</td>\n",
       "    </tr>\n",
       "    <tr>\n",
       "      <th>3</th>\n",
       "      <td>80176</td>\n",
       "      <td>Given the provided patient-doctor dialog, writ...</td>\n",
       "      <td>{\\n\"visit motivation\": \"Pain in the left proxi...</td>\n",
       "    </tr>\n",
       "    <tr>\n",
       "      <th>4</th>\n",
       "      <td>72232</td>\n",
       "      <td>Given the provided patient-doctor dialog, writ...</td>\n",
       "      <td>{\\n\"visit motivation\": \"Recurrent attacks of p...</td>\n",
       "    </tr>\n",
       "  </tbody>\n",
       "</table>\n",
       "</div>"
      ],
      "text/plain": [
       "      idx                                             prompt  \\\n",
       "0  155216  Given the provided patient-doctor dialog, writ...   \n",
       "1   77465  Given the provided patient-doctor dialog, writ...   \n",
       "2  133948  Given the provided patient-doctor dialog, writ...   \n",
       "3   80176  Given the provided patient-doctor dialog, writ...   \n",
       "4   72232  Given the provided patient-doctor dialog, writ...   \n",
       "\n",
       "                                                gold  \n",
       "0  {\\n\"visit motivation\": \"Discomfort in the neck...  \n",
       "1  {\\n\"visit motivation\": \"Complaints of a dull p...  \n",
       "2  {\\n\"visit motivation\": \"Pain and restricted ra...  \n",
       "3  {\\n\"visit motivation\": \"Pain in the left proxi...  \n",
       "4  {\\n\"visit motivation\": \"Recurrent attacks of p...  "
      ]
     },
     "execution_count": 22,
     "metadata": {},
     "output_type": "execute_result"
    }
   ],
   "source": [
    "summarizer_path = os.path.join(SUMMARIZER_DIR, 'summarizer_30K.jsonl')\n",
    "summarizer = prepare_dataset(data_path=summaries_path, \n",
    "                          save_path=summarizer_path,\n",
    "                          prompt_path='generation/instructions/summarize.txt',\n",
    "                          prompt_key='conversation',\n",
    "                          gold_key='summary')\n",
    "summarizer.head()"
   ]
  },
  {
   "cell_type": "markdown",
   "metadata": {},
   "source": [
    "### 2.2. **Generator**: summary to note"
   ]
  },
  {
   "cell_type": "code",
   "execution_count": 24,
   "metadata": {},
   "outputs": [
    {
     "data": {
      "text/html": [
       "<div>\n",
       "<style scoped>\n",
       "    .dataframe tbody tr th:only-of-type {\n",
       "        vertical-align: middle;\n",
       "    }\n",
       "\n",
       "    .dataframe tbody tr th {\n",
       "        vertical-align: top;\n",
       "    }\n",
       "\n",
       "    .dataframe thead th {\n",
       "        text-align: right;\n",
       "    }\n",
       "</style>\n",
       "<table border=\"1\" class=\"dataframe\">\n",
       "  <thead>\n",
       "    <tr style=\"text-align: right;\">\n",
       "      <th></th>\n",
       "      <th>idx</th>\n",
       "      <th>prompt</th>\n",
       "      <th>gold</th>\n",
       "    </tr>\n",
       "  </thead>\n",
       "  <tbody>\n",
       "    <tr>\n",
       "      <th>0</th>\n",
       "      <td>155216</td>\n",
       "      <td>Given the provided JSON patient information su...</td>\n",
       "      <td>A a sixteen year-old girl, presented to our Ou...</td>\n",
       "    </tr>\n",
       "    <tr>\n",
       "      <th>1</th>\n",
       "      <td>77465</td>\n",
       "      <td>Given the provided JSON patient information su...</td>\n",
       "      <td>This is the case of a 56-year-old man that was...</td>\n",
       "    </tr>\n",
       "    <tr>\n",
       "      <th>2</th>\n",
       "      <td>133948</td>\n",
       "      <td>Given the provided JSON patient information su...</td>\n",
       "      <td>A 36-year old female patient visited our hospi...</td>\n",
       "    </tr>\n",
       "    <tr>\n",
       "      <th>3</th>\n",
       "      <td>80176</td>\n",
       "      <td>Given the provided JSON patient information su...</td>\n",
       "      <td>A 49-year-old male presented with a complaint ...</td>\n",
       "    </tr>\n",
       "    <tr>\n",
       "      <th>4</th>\n",
       "      <td>72232</td>\n",
       "      <td>Given the provided JSON patient information su...</td>\n",
       "      <td>A 47-year-old male patient was referred to the...</td>\n",
       "    </tr>\n",
       "  </tbody>\n",
       "</table>\n",
       "</div>"
      ],
      "text/plain": [
       "      idx                                             prompt  \\\n",
       "0  155216  Given the provided JSON patient information su...   \n",
       "1   77465  Given the provided JSON patient information su...   \n",
       "2  133948  Given the provided JSON patient information su...   \n",
       "3   80176  Given the provided JSON patient information su...   \n",
       "4   72232  Given the provided JSON patient information su...   \n",
       "\n",
       "                                                gold  \n",
       "0  A a sixteen year-old girl, presented to our Ou...  \n",
       "1  This is the case of a 56-year-old man that was...  \n",
       "2  A 36-year old female patient visited our hospi...  \n",
       "3  A 49-year-old male presented with a complaint ...  \n",
       "4  A 47-year-old male patient was referred to the...  "
      ]
     },
     "execution_count": 24,
     "metadata": {},
     "output_type": "execute_result"
    }
   ],
   "source": [
    "generator_path = os.path.join(GENERATOR_DIR, 'generator_30K.jsonl')\n",
    "generator = prepare_dataset(data_path=summaries_path, \n",
    "                         save_path=generator_path,\n",
    "                         prompt_path='generation/instructions/generate.txt',\n",
    "                         prompt_key='summary',\n",
    "                         #gold_key='data')\n",
    "                         gold_key='note') #myadd\n",
    "generator.head()"
   ]
  },
  {
   "cell_type": "markdown",
   "metadata": {},
   "source": [
    "### 2.3. **Direct generation**: dialog to note\n"
   ]
  },
  {
   "cell_type": "code",
   "execution_count": 26,
   "metadata": {},
   "outputs": [
    {
     "data": {
      "text/html": [
       "<div>\n",
       "<style scoped>\n",
       "    .dataframe tbody tr th:only-of-type {\n",
       "        vertical-align: middle;\n",
       "    }\n",
       "\n",
       "    .dataframe tbody tr th {\n",
       "        vertical-align: top;\n",
       "    }\n",
       "\n",
       "    .dataframe thead th {\n",
       "        text-align: right;\n",
       "    }\n",
       "</style>\n",
       "<table border=\"1\" class=\"dataframe\">\n",
       "  <thead>\n",
       "    <tr style=\"text-align: right;\">\n",
       "      <th></th>\n",
       "      <th>idx</th>\n",
       "      <th>prompt</th>\n",
       "      <th>gold</th>\n",
       "    </tr>\n",
       "  </thead>\n",
       "  <tbody>\n",
       "    <tr>\n",
       "      <th>0</th>\n",
       "      <td>155216</td>\n",
       "      <td>Given the provided patient-doctor conversation...</td>\n",
       "      <td>A a sixteen year-old girl, presented to our Ou...</td>\n",
       "    </tr>\n",
       "    <tr>\n",
       "      <th>1</th>\n",
       "      <td>77465</td>\n",
       "      <td>Given the provided patient-doctor conversation...</td>\n",
       "      <td>This is the case of a 56-year-old man that was...</td>\n",
       "    </tr>\n",
       "    <tr>\n",
       "      <th>2</th>\n",
       "      <td>133948</td>\n",
       "      <td>Given the provided patient-doctor conversation...</td>\n",
       "      <td>A 36-year old female patient visited our hospi...</td>\n",
       "    </tr>\n",
       "    <tr>\n",
       "      <th>3</th>\n",
       "      <td>80176</td>\n",
       "      <td>Given the provided patient-doctor conversation...</td>\n",
       "      <td>A 49-year-old male presented with a complaint ...</td>\n",
       "    </tr>\n",
       "    <tr>\n",
       "      <th>4</th>\n",
       "      <td>72232</td>\n",
       "      <td>Given the provided patient-doctor conversation...</td>\n",
       "      <td>A 47-year-old male patient was referred to the...</td>\n",
       "    </tr>\n",
       "  </tbody>\n",
       "</table>\n",
       "</div>"
      ],
      "text/plain": [
       "      idx                                             prompt  \\\n",
       "0  155216  Given the provided patient-doctor conversation...   \n",
       "1   77465  Given the provided patient-doctor conversation...   \n",
       "2  133948  Given the provided patient-doctor conversation...   \n",
       "3   80176  Given the provided patient-doctor conversation...   \n",
       "4   72232  Given the provided patient-doctor conversation...   \n",
       "\n",
       "                                                gold  \n",
       "0  A a sixteen year-old girl, presented to our Ou...  \n",
       "1  This is the case of a 56-year-old man that was...  \n",
       "2  A 36-year old female patient visited our hospi...  \n",
       "3  A 49-year-old male presented with a complaint ...  \n",
       "4  A 47-year-old male patient was referred to the...  "
      ]
     },
     "execution_count": 26,
     "metadata": {},
     "output_type": "execute_result"
    }
   ],
   "source": [
    "direct_path = os.path.join(DIRECT_DIR, 'direct_30K.jsonl')\n",
    "direct = prepare_dataset(data_path=summaries_path, \n",
    "                      save_path=direct_path,\n",
    "                      prompt_path='generation/instructions/direct.txt',\n",
    "                      prompt_key='conversation',\n",
    "                      #gold_key='data')\n",
    "                      gold_key='note') #myadd\n",
    "direct.head()"
   ]
  },
  {
   "cell_type": "markdown",
   "metadata": {},
   "source": [
    "\n",
    "#### 2.4. **Full clinical notes**\n",
    "\n",
    "Here, we noticed that the NoteChat dataset contains truncated clinical notes. To fix this issue, we find full 167K clinical notes from the original PMC-Patients dataset and add them to the NoteChat dataset. We find 29798 out of 30000 full clinical notes; the remaining 202 clinical notes are not available in the PMC-Patients dataset and we use the versions from the NoteChat dataset.\n",
    "\n",
    "**NOTE**: Only the direct dataset has full clinical notes, because we generated patient summaries from NoteChat's truncated notes, and so training a model to either generate to or from a patient summary would encourage the model in forgetting or adding information to the clinical note.\n",
    "\n",
    "Here, we noticed that the NoteChat dataset contains truncated clinical notes. To fix this issue, we find full 167K clinical notes from the original PMC-Patients dataset and add them to the NoteChat dataset. We find 29798 out of 30000 full clinical notes; the remaining 202 clinical notes are not available in the PMC-Patients dataset and we use the versions from the NoteChat dataset.\n",
    "\n",
    "| Model | Full clinical notes |\n",
    "| --- | --- |\n",
    "| Meditron-7B-summarizer | No |\n",
    "| Meditron-7B-generator | No |\n",
    "| Meditron-7B-direct | **Yes** |\n",
    "| Meditron-13B-summarizer | No |\n",
    "| Meditron-13B-generator | No |\n",
    "| Meditron-13B-direct | **Yes** |\n"
   ]
  },
  {
   "cell_type": "code",
   "execution_count": 30,
   "metadata": {},
   "outputs": [
    {
     "data": {
      "image/png": "[encoded data removed]",
      "text/plain": [
       "<Figure size 640x480 with 1 Axes>"
      ]
     },
     "metadata": {},
     "output_type": "display_data"
    }
   ],
   "source": [
    "full_summaries_path = os.path.join(SUMMARIES_DIR, 'summaries_full_30K.jsonl')\n",
    "if os.path.exists(full_summaries_path):\n",
    "    full_summaries = pd.read_json(full_summaries_path, lines=True)\n",
    "\n",
    "else: \n",
    "    # Load PMC-Patients dataset\n",
    "    PMC_path = 'data/PMC-Patients.jsonl'\n",
    "    if os.path.exists(PMC_path): \n",
    "        PMC = pd.read_json(PMC_path, orient='records', lines=True)\n",
    "    else: \n",
    "        PMC = load_dataset(\"zhengyun21/PMC-Patients\", split='train').to_pandas()\n",
    "        PMC.to_json('data/PMC-Patients.jsonl', orient='records', lines=True)\n",
    "\n",
    "    # Make a set of truncated patient notes from PMC\n",
    "    full_notes = {}\n",
    "    truncate = lambda x: x.strip() if len(x) <= 200 else x[:100]\n",
    "    for i, row in tqdm(PMC.iterrows(), total=len(PMC), desc='Creating set of truncated patient notes'):\n",
    "        full_notes[truncate(row['patient'])] = i\n",
    "\n",
    "    # Now iterate through the summaries and find matches in the PMC dataset\n",
    "    full_summaries = summaries.copy()\n",
    "    full_summaries['full_note'] = None\n",
    "    num_matches = 0\n",
    "    for i, row in tqdm(summaries.iterrows(), total=len(summaries), desc='Matching truncated notes to full notes'):\n",
    "        #truncated_data = truncate(row['data'])\n",
    "        truncated_data = truncate(row['note'])\n",
    "        matches = full_notes.get(truncated_data, None)\n",
    "        if matches is not None:\n",
    "            num_matches += 1\n",
    "            idx = full_notes[truncated_data]\n",
    "            full_summaries.at[i, 'full_note'] = PMC.iloc[idx]['patient']\n",
    "        else: \n",
    "            #full_summaries.at[i, 'full_note'] = row['data']\n",
    "            full_summaries.at[i, 'full_note'] = row['note'] #myadd\n",
    "\n",
    "    print(f'Number of matches: {num_matches} out of {len(summaries)}')\n",
    "    full_summaries.to_json(full_summaries_path, orient='records', lines=True)\n",
    "#length_histogram(full_summaries, key='full_note')\n",
    "length_histogram(full_summaries_path, keys='full_note') #myadd"
   ]
  },
  {
   "cell_type": "markdown",
   "metadata": {},
   "source": [
    "Now that we have the full notes, we prepare the direct dataset: "
   ]
  },
  {
   "cell_type": "code",
   "execution_count": 31,
   "metadata": {},
   "outputs": [],
   "source": [
    "full_summaries_path = os.path.join(SUMMARIES_DIR, 'summaries_full_30K.jsonl')\n",
    "direct_full_path = os.path.join(DIRECT_DIR, 'direct_full_30K.jsonl')\n",
    "direct_full = prepare_dataset(data_path=full_summaries_path, \n",
    "                           save_path=direct_full_path,\n",
    "                           prompt_path='generation/instructions/direct.txt',\n",
    "                           prompt_key='conversation',\n",
    "                           gold_key='full_note')"
   ]
  },
  {
   "cell_type": "markdown",
   "metadata": {},
   "source": [
    "Similarly for the summarizer and generator datasets. "
   ]
  },
  {
   "cell_type": "markdown",
   "metadata": {},
   "source": [
    "### 2.4. **Train-test split**\n",
    "\n",
    "We reserve 10% of each dataset to run inference and evaluate the model. We also check for contamination; all is good!"
   ]
  },
  {
   "cell_type": "code",
   "execution_count": 32,
   "metadata": {},
   "outputs": [
    {
     "name": "stdout",
     "output_type": "stream",
     "text": [
      "Saved train and test sets to data/summarizer/summarizer_30K_train.jsonl and data/summarizer/summarizer_30K_test.jsonl.\n",
      "Saved train and test sets to data/generator/generator_30K_train.jsonl and data/generator/generator_30K_test.jsonl.\n",
      "Saved train and test sets to data/direct/direct_30K_train.jsonl and data/direct/direct_30K_test.jsonl.\n",
      "Saved train and test sets to data/summaries/summaries_full_30K_train.jsonl and data/summaries/summaries_full_30K_test.jsonl.\n",
      "Intersection: 0\n"
     ]
    }
   ],
   "source": [
    "summarizer_train, summarizer_test = split(summarizer_path, test_ratio=0.1)\n",
    "generator_train, generator_test = split(generator_path, test_ratio=0.1)\n",
    "direct_train, direct_test = split(direct_path, test_ratio=0.1)\n",
    "summaries_train, summaries_test = split(full_summaries_path, test_ratio=0.1)\n",
    "\n",
    "# Double check for contamination\n",
    "summarizer_train_idx = set(summarizer_train['idx'])\n",
    "generator_test_idx = set(generator_test['idx'])\n",
    "direct_test_idx = set(direct_test['idx'])\n",
    "intersection = summarizer_train_idx.intersection(generator_test_idx)\n",
    "print(f'Intersection: {len(intersection)}')\n"
   ]
  },
  {
   "cell_type": "markdown",
   "metadata": {},
   "source": [
    "### Some statistics"
   ]
  },
  {
   "cell_type": "code",
   "execution_count": 33,
   "metadata": {},
   "outputs": [
    {
     "data": {
      "image/png": "[encoded data removed]",
      "text/plain": [
       "<Figure size 640x480 with 1 Axes>"
      ]
     },
     "metadata": {},
     "output_type": "display_data"
    }
   ],
   "source": [
    "length_histogram(summarizer_path, keys=['prompt', 'gold'])"
   ]
  },
  {
   "cell_type": "code",
   "execution_count": 34,
   "metadata": {},
   "outputs": [
    {
     "data": {
      "image/png": "[encoded data removed]",
      "text/plain": [
       "<Figure size 640x480 with 1 Axes>"
      ]
     },
     "metadata": {},
     "output_type": "display_data"
    }
   ],
   "source": [
    "length_histogram(generator_path, keys=['prompt', 'gold'])"
   ]
  },
  {
   "cell_type": "code",
   "execution_count": 35,
   "metadata": {},
   "outputs": [
    {
     "name": "stdout",
     "output_type": "stream",
     "text": [
      "Data preparation initiated.\n",
      "\n",
      "Loading NoteChat data from data/NoteChat.jsonl...\n",
      "Sorting NoteChat data by decreasing length...\n",
      "Generating summaries...\n",
      "Loading Data...\n",
      "generating summaries...\n",
      "Loading template...\n",
      "Loading instructions...\n",
      "Building prompts...\n"
     ]
    },
    {
     "name": "stderr",
     "output_type": "stream",
     "text": [
      "100%|██████████| 10/10 [00:00<00:00, 6053.26it/s]\n",
      "Building messages: 100%|██████████| 10/10 [00:00<00:00, 23045.63it/s]\n"
     ]
    },
    {
     "name": "stdout",
     "output_type": "stream",
     "text": [
      "Creating sub-batches...\n"
     ]
    },
    {
     "name": "stderr",
     "output_type": "stream",
     "text": [
      "Building sub-batches: 100%|██████████| 10/10 [00:00<00:00, 440.86it/s]"
     ]
    },
    {
     "name": "stdout",
     "output_type": "stream",
     "text": [
      "Sub_batch 1/1: 10 calls, 14652 total tokens: 0.14651999999999998$\n"
     ]
    },
    {
     "name": "stderr",
     "output_type": "stream",
     "text": [
      "\n"
     ]
    },
    {
     "name": "stdout",
     "output_type": "stream",
     "text": [
      "..........\n",
      "\n",
      "Sub-batch 1 Saved (size 10)\n",
      "\n",
      "\n",
      "Break for 21 seconds.\n",
      "End of break.\n",
      "Formatting patient summaries...\n"
     ]
    },
    {
     "ename": "KeyError",
     "evalue": "'data'",
     "output_type": "error",
     "traceback": [
      "\u001b[0;31m---------------------------------------------------------------------------\u001b[0m",
      "\u001b[0;31mKeyError\u001b[0m                                  Traceback (most recent call last)",
      "File \u001b[0;32m~/Documents/UmichFolder/2025 Fall Semester /Research 499/LettiNote/myletti/lib/python3.10/site-packages/pandas/core/indexes/base.py:3791\u001b[0m, in \u001b[0;36mIndex.get_loc\u001b[0;34m(self, key)\u001b[0m\n\u001b[1;32m   3790\u001b[0m \u001b[38;5;28;01mtry\u001b[39;00m:\n\u001b[0;32m-> 3791\u001b[0m     \u001b[38;5;28;01mreturn\u001b[39;00m \u001b[38;5;28;43mself\u001b[39;49m\u001b[38;5;241;43m.\u001b[39;49m\u001b[43m_engine\u001b[49m\u001b[38;5;241;43m.\u001b[39;49m\u001b[43mget_loc\u001b[49m\u001b[43m(\u001b[49m\u001b[43mcasted_key\u001b[49m\u001b[43m)\u001b[49m\n\u001b[1;32m   3792\u001b[0m \u001b[38;5;28;01mexcept\u001b[39;00m \u001b[38;5;167;01mKeyError\u001b[39;00m \u001b[38;5;28;01mas\u001b[39;00m err:\n",
      "File \u001b[0;32mindex.pyx:152\u001b[0m, in \u001b[0;36mpandas._libs.index.IndexEngine.get_loc\u001b[0;34m()\u001b[0m\n",
      "File \u001b[0;32mindex.pyx:181\u001b[0m, in \u001b[0;36mpandas._libs.index.IndexEngine.get_loc\u001b[0;34m()\u001b[0m\n",
      "File \u001b[0;32mpandas/_libs/hashtable_class_helper.pxi:7080\u001b[0m, in \u001b[0;36mpandas._libs.hashtable.PyObjectHashTable.get_item\u001b[0;34m()\u001b[0m\n",
      "File \u001b[0;32mpandas/_libs/hashtable_class_helper.pxi:7088\u001b[0m, in \u001b[0;36mpandas._libs.hashtable.PyObjectHashTable.get_item\u001b[0;34m()\u001b[0m\n",
      "\u001b[0;31mKeyError\u001b[0m: 'data'",
      "\nThe above exception was the direct cause of the following exception:\n",
      "\u001b[0;31mKeyError\u001b[0m                                  Traceback (most recent call last)",
      "Cell \u001b[0;32mIn[35], line 1\u001b[0m\n\u001b[0;32m----> 1\u001b[0m \u001b[43mprepare\u001b[49m\u001b[43m(\u001b[49m\u001b[43mDATA_DIR\u001b[49m\u001b[43m)\u001b[49m\n",
      "File \u001b[0;32m~/Documents/UmichFolder/2025 Fall Semester /Research 499/LettiNote/MediNote/utils/data.py:197\u001b[0m, in \u001b[0;36mprepare\u001b[0;34m(data_dir)\u001b[0m\n\u001b[1;32m    195\u001b[0m summaries \u001b[38;5;241m=\u001b[39m pd\u001b[38;5;241m.\u001b[39mread_json(summaries_path, lines\u001b[38;5;241m=\u001b[39m\u001b[38;5;28;01mTrue\u001b[39;00m)\n\u001b[1;32m    196\u001b[0m summaries[\u001b[38;5;124m'\u001b[39m\u001b[38;5;124msummary\u001b[39m\u001b[38;5;124m'\u001b[39m] \u001b[38;5;241m=\u001b[39m summaries[\u001b[38;5;124m'\u001b[39m\u001b[38;5;124msummary\u001b[39m\u001b[38;5;124m'\u001b[39m]\u001b[38;5;241m.\u001b[39mapply(formatting)          \n\u001b[0;32m--> 197\u001b[0m summaries[\u001b[38;5;124m'\u001b[39m\u001b[38;5;124mdata\u001b[39m\u001b[38;5;124m'\u001b[39m] \u001b[38;5;241m=\u001b[39m \u001b[43msummaries\u001b[49m\u001b[43m[\u001b[49m\u001b[38;5;124;43m'\u001b[39;49m\u001b[38;5;124;43mdata\u001b[39;49m\u001b[38;5;124;43m'\u001b[39;49m\u001b[43m]\u001b[49m\u001b[38;5;241m.\u001b[39mapply(\u001b[38;5;28;01mlambda\u001b[39;00m x: x\u001b[38;5;241m.\u001b[39mstrip())\n\u001b[1;32m    198\u001b[0m summaries[\u001b[38;5;124m'\u001b[39m\u001b[38;5;124mconversation\u001b[39m\u001b[38;5;124m'\u001b[39m] \u001b[38;5;241m=\u001b[39m summaries[\u001b[38;5;124m'\u001b[39m\u001b[38;5;124mconversation\u001b[39m\u001b[38;5;124m'\u001b[39m]\u001b[38;5;241m.\u001b[39mapply(\u001b[38;5;28;01mlambda\u001b[39;00m x: x\u001b[38;5;241m.\u001b[39mstrip()\u001b[38;5;241m.\u001b[39mreplace(\u001b[38;5;124m'\u001b[39m\u001b[38;5;130;01m\\n\u001b[39;00m\u001b[38;5;130;01m\\n\u001b[39;00m\u001b[38;5;124m'\u001b[39m, \u001b[38;5;124m'\u001b[39m\u001b[38;5;130;01m\\n\u001b[39;00m\u001b[38;5;124m'\u001b[39m))\n\u001b[1;32m    199\u001b[0m summaries\u001b[38;5;241m.\u001b[39mto_json(summaries_path, orient\u001b[38;5;241m=\u001b[39m\u001b[38;5;124m'\u001b[39m\u001b[38;5;124mrecords\u001b[39m\u001b[38;5;124m'\u001b[39m, lines\u001b[38;5;241m=\u001b[39m\u001b[38;5;28;01mTrue\u001b[39;00m)\n",
      "File \u001b[0;32m~/Documents/UmichFolder/2025 Fall Semester /Research 499/LettiNote/myletti/lib/python3.10/site-packages/pandas/core/frame.py:3893\u001b[0m, in \u001b[0;36mDataFrame.__getitem__\u001b[0;34m(self, key)\u001b[0m\n\u001b[1;32m   3891\u001b[0m \u001b[38;5;28;01mif\u001b[39;00m \u001b[38;5;28mself\u001b[39m\u001b[38;5;241m.\u001b[39mcolumns\u001b[38;5;241m.\u001b[39mnlevels \u001b[38;5;241m>\u001b[39m \u001b[38;5;241m1\u001b[39m:\n\u001b[1;32m   3892\u001b[0m     \u001b[38;5;28;01mreturn\u001b[39;00m \u001b[38;5;28mself\u001b[39m\u001b[38;5;241m.\u001b[39m_getitem_multilevel(key)\n\u001b[0;32m-> 3893\u001b[0m indexer \u001b[38;5;241m=\u001b[39m \u001b[38;5;28;43mself\u001b[39;49m\u001b[38;5;241;43m.\u001b[39;49m\u001b[43mcolumns\u001b[49m\u001b[38;5;241;43m.\u001b[39;49m\u001b[43mget_loc\u001b[49m\u001b[43m(\u001b[49m\u001b[43mkey\u001b[49m\u001b[43m)\u001b[49m\n\u001b[1;32m   3894\u001b[0m \u001b[38;5;28;01mif\u001b[39;00m is_integer(indexer):\n\u001b[1;32m   3895\u001b[0m     indexer \u001b[38;5;241m=\u001b[39m [indexer]\n",
      "File \u001b[0;32m~/Documents/UmichFolder/2025 Fall Semester /Research 499/LettiNote/myletti/lib/python3.10/site-packages/pandas/core/indexes/base.py:3798\u001b[0m, in \u001b[0;36mIndex.get_loc\u001b[0;34m(self, key)\u001b[0m\n\u001b[1;32m   3793\u001b[0m     \u001b[38;5;28;01mif\u001b[39;00m \u001b[38;5;28misinstance\u001b[39m(casted_key, \u001b[38;5;28mslice\u001b[39m) \u001b[38;5;129;01mor\u001b[39;00m (\n\u001b[1;32m   3794\u001b[0m         \u001b[38;5;28misinstance\u001b[39m(casted_key, abc\u001b[38;5;241m.\u001b[39mIterable)\n\u001b[1;32m   3795\u001b[0m         \u001b[38;5;129;01mand\u001b[39;00m \u001b[38;5;28many\u001b[39m(\u001b[38;5;28misinstance\u001b[39m(x, \u001b[38;5;28mslice\u001b[39m) \u001b[38;5;28;01mfor\u001b[39;00m x \u001b[38;5;129;01min\u001b[39;00m casted_key)\n\u001b[1;32m   3796\u001b[0m     ):\n\u001b[1;32m   3797\u001b[0m         \u001b[38;5;28;01mraise\u001b[39;00m InvalidIndexError(key)\n\u001b[0;32m-> 3798\u001b[0m     \u001b[38;5;28;01mraise\u001b[39;00m \u001b[38;5;167;01mKeyError\u001b[39;00m(key) \u001b[38;5;28;01mfrom\u001b[39;00m \u001b[38;5;21;01merr\u001b[39;00m\n\u001b[1;32m   3799\u001b[0m \u001b[38;5;28;01mexcept\u001b[39;00m \u001b[38;5;167;01mTypeError\u001b[39;00m:\n\u001b[1;32m   3800\u001b[0m     \u001b[38;5;66;03m# If we have a listlike key, _check_indexing_error will raise\u001b[39;00m\n\u001b[1;32m   3801\u001b[0m     \u001b[38;5;66;03m#  InvalidIndexError. Otherwise we fall through and re-raise\u001b[39;00m\n\u001b[1;32m   3802\u001b[0m     \u001b[38;5;66;03m#  the TypeError.\u001b[39;00m\n\u001b[1;32m   3803\u001b[0m     \u001b[38;5;28mself\u001b[39m\u001b[38;5;241m.\u001b[39m_check_indexing_error(key)\n",
      "\u001b[0;31mKeyError\u001b[0m: 'data'"
     ]
    }
   ],
   "source": [
    "prepare(DATA_DIR)"
   ]
  },
  {
   "cell_type": "markdown",
   "metadata": {},
   "source": []
  },
  {
   "cell_type": "code",
   "execution_count": null,
   "metadata": {},
   "outputs": [],
   "source": [
    "#NOTE: this function is called in main of infer.py\n",
    "# but training files? not found\n",
    "\n",
    "\n",
    "inputPath = \"generation/saves/summaries_full_gen.jsonl\"\n",
    "outputPath = \"myTesting/testingOut.jsonl\" #this file does not exist but needs something\n",
    "modelName = \"gpt3\"\n",
    "mode = \"generator-gpt\"\n",
    "max_tokens = 20000\n",
    "\n",
    "# Generate clinical notes from conversations using an OpenAI model.\n",
    "\n",
    "infer_openai(\n",
    "    input_path=inputPath,\n",
    "    output_path=outputPath,\n",
    "    model_name=modelName,\n",
    "    mode=mode,\n",
    "    max_tokens=max_tokens\n",
    ")"
   ]
  }
 ],
 "metadata": {
  "kernelspec": {
   "display_name": "myletti",
   "language": "python",
   "name": "python3"
  },
  "language_info": {
   "codemirror_mode": {
    "name": "ipython",
    "version": 3
   },
   "file_extension": ".py",
   "mimetype": "text/x-python",
   "name": "python",
   "nbconvert_exporter": "python",
   "pygments_lexer": "ipython3",
   "version": "3.10.1"
  }
 },
 "nbformat": 4,
 "nbformat_minor": 2
}
